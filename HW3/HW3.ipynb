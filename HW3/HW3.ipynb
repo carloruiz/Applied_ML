{
 "cells": [
  {
   "cell_type": "code",
   "execution_count": 1,
   "metadata": {
    "collapsed": true
   },
   "outputs": [],
   "source": [
    "import numpy as np\n",
    "import pandas as pd\n",
    "from seaborn import heatmap\n",
    "import matplotlib.pyplot as plt\n",
    "from sklearn.preprocessing import Imputer\n",
    "from sklearn.model_selection import train_test_split, cross_val_score, GridSearchCV\n",
    "from sklearn import linear_model\n",
    "from sklearn.preprocessing import StandardScaler, PolynomialFeatures\n",
    "from sklearn.base import BaseEstimator, TransformerMixin\n",
    "from sklearn.svm import SVR\n",
    "from sklearn.pipeline import Pipeline"
   ]
  },
  {
   "cell_type": "code",
   "execution_count": 2,
   "metadata": {
    "collapsed": true
   },
   "outputs": [],
   "source": [
    "np.set_printoptions(suppress=True, precision=4)\n",
    "\n",
    "%matplotlib inline\n",
    "\n",
    "df = pd.concat([pd.read_excel(file) for file in ['2015.xlsx', '2016.xlsx', '2017.xlsx', '2018.xlsx']])"
   ]
  },
  {
   "cell_type": "code",
   "execution_count": 3,
   "metadata": {},
   "outputs": [],
   "source": [
    "idx_to_remove = list(range(0,6)) + list(range(8,19)) + [20,22,23,28,31] + \\\n",
    "                list(range(33,38)) + list(range(38,45)) + \\\n",
    "                list(range(44,66)) + [30] + [68] + \\\n",
    "                list(range(70,82)) + [83,85] + list(range(87,113)) + \\\n",
    "                list(range(114,117)) + [118] + \\\n",
    "                list(range(120,128)) + [128] +  list(range(129,150)) + \\\n",
    "                list(range(152, 162))\n",
    "\n",
    "col_to_remove = [df.columns[i] for i in idx_to_remove]"
   ]
  },
  {
   "cell_type": "markdown",
   "metadata": {},
   "source": [
    "# Task 1\n",
    "I am removing the vast majority of the features, 142 features to be exact. That leaves me with 20\n",
    "features with which to build the model. It may seem a bit extreme but I went one by one through \n",
    "the features and removed them based on the following criteria:\n",
    "- Off limits features (EPA, FE, CO2 and their derivatives)\n",
    "- All feature values were NaN or a single value for all observations, these don't add information\n",
    "- Feature dtype was a blob of text (a description of some sort) since this isn't easy to \n",
    "  quantitatively measure\n",
    "- Anything related to car name/model/year/company since it was would also be hard to \n",
    "  convert to a quantitative measure.\n",
    "- Redundant features\n",
    "- Feature values were inconvenient to convert to a quantitative measure (e.g. The volume feaures). \n",
    "  My plan was to bring these in if accuracy were too low. Accuracy was good enough with given \n",
    "  features, so I never came back for these features.\n",
    "    \n",
    "I kept only these features:\n",
    " 'Eng Displ',                 '# Cyl',\n",
    " 'Air Aspir Method',          'Trans',\n",
    " '# Gears',                   'Lockup Torque Converter',\n",
    " 'Trans Creeper Gear',        'Drive Sys',\n",
    " 'Max Ethanol % - Gasoline',  'Fuel Usage  - Conventional Fuel',\n",
    " 'Intake Valves Per Cyl',     'Exhaust Valves Per Cyl',\n",
    " 'Carline Class Desc',        'Cyl Deact?',\n",
    " 'Var Valve Timing?',         'Var Valve Lift?',\n",
    " 'Fuel Metering Sys Cd',      'Camless Valvetrain (Y or N)',\n",
    " 'Stop/Start System (Engine Management System) Code',\n",
    " '$ You Save over 5 years (amount saved in fuel costs over 5 years - on label) ',\n",
    " '$ You Spend over 5 years (increased amount spent in fuel costs over 5 years - on label) ']\n",
    "\n",
    "I one-hot encoded most features since most have categorical values. In some cases \n",
    "(e.g. Carline Class Desc) I split values into 2 dummy features to decrease the number \n",
    "of dummies. "
   ]
  },
  {
   "cell_type": "code",
   "execution_count": 4,
   "metadata": {},
   "outputs": [],
   "source": [
    "df = df.replace(to_replace={'Air Aspir Method': {np.nan: 'NA'},\n",
    "                            'Max Ethanol % - Gasoline': {np.nan: 0},\n",
    "                            'Drive Sys': {4: '4'},\n",
    "                            'Energy Storage Device Desc': {np.nan: 'No'},\n",
    "                            '$ You Save over 5 years (amount saved in fuel costs over 5 years - on label)': {np.nan: 0}\n",
    "                           }) \n",
    "\n",
    "# split Carline Class Desc into dummy columns. One Specifies car type, the other car size\n",
    "col = df['Carline Class Desc']\n",
    "remove_strs = ' 4WD| 2WD|Minicompact |Subcompact |Compact |Midsize |Large ' + \\\n",
    "'|Small |Standard |, Cargo Types|, Passenger Type| cab chassis|Special Purpose Vehicle, '\n",
    "\n",
    "col = col.replace(remove_strs, '', regex=True)\n",
    "df = pd.concat([df, pd.get_dummies(col)], axis=1)\n",
    "\n",
    "col = df['Carline Class Desc']\n",
    "arr = []\n",
    "for v in col:\n",
    "    if any(s in v for s in ['Minicompact', 'Subcompact', 'Small', 'Compact', \n",
    "                            'mini', 'Two Seater']):\n",
    "        arr.append('Small')\n",
    "    else:\n",
    "        arr.append('Large')\n",
    "\n",
    "dummies = pd.get_dummies(pd.Series(arr, index=df.index), drop_first=True)\n",
    "df = pd.concat([df, dummies], axis=1)\n",
    "\n",
    "\n",
    "# Convert Money Spent, Money Saved to a single column of values and a dummy\n",
    "col_save = '$ You Save over 5 years (amount saved in fuel costs over 5 years - on label) '\n",
    "col_spend = '$ You Spend over 5 years (increased amount spent in fuel costs over 5 years - on label) '\n",
    "money_col, spend_save_dummy = [], []\n",
    "\n",
    "for x,y in zip(df[col_save], df[col_spend]):\n",
    "    if np.isnan(x):\n",
    "        money_col.append(y)\n",
    "        spend_save_dummy.append(1)\n",
    "    else:\n",
    "        money_col.append(x)\n",
    "        spend_save_dummy.append(0)\n",
    "\n",
    "df['Money'] = pd.Series(money_col, index=df.index)\n",
    "df['Spent'] = pd.Series(spend_save_dummy, index=df.index)\n",
    "\n",
    "\n",
    "# get dummies \n",
    "single_dummy_cols = ['Lockup Torque Converter', 'Trans Creeper Gear','Cyl Deact?', \n",
    "                     'Var Valve Lift?', 'Camless Valvetrain (Y or N)', \n",
    "                     'Stop/Start System (Engine Management System) Code',\n",
    "                     'Energy Storage Device Desc', 'Var Valve Timing?']\n",
    "many_dummy_cols = ['Air Aspir Method', 'Trans', 'Drive Sys', 'Fuel Metering Sys Cd', \n",
    "                   'Fuel Usage  - Conventional Fuel']\n",
    "\n",
    "df = pd.get_dummies(df, columns=single_dummy_cols, drop_first=True)\n",
    "df = pd.get_dummies(df, columns=many_dummy_cols)\n",
    "\n",
    "\n",
    "# Split 2018 data from 2015-2017 and X,y values\n",
    "y_all = np.array(df['Comb Unrd Adj FE - Conventional Fuel'])\n",
    "y_18 = np.array(df[-1220:]['Comb Unrd Adj FE - Conventional Fuel'])\n",
    "y = np.array(df[:-1220]['Comb Unrd Adj FE - Conventional Fuel'])\n",
    "\n",
    "col_to_remove = col_to_remove + single_dummy_cols + many_dummy_cols + ['Carline Class Desc'] \\\n",
    "                + [col_save, col_spend]\n",
    "col_keep = [c for c in df.columns if c not in col_to_remove]\n",
    "df = pd.DataFrame(df, columns=col_keep)\n",
    "\n",
    "X_all = np.array(df)\n",
    "X_18 = np.array(df[-1220:])\n",
    "X = np.array(df[:-1220])"
   ]
  },
  {
   "cell_type": "markdown",
   "metadata": {},
   "source": [
    "### Preprocessing done!!!! Now build a simple model"
   ]
  },
  {
   "cell_type": "code",
   "execution_count": 5,
   "metadata": {},
   "outputs": [
    {
     "data": {
      "image/png": "[encoded data removed]",
      "text/plain": [
       "<matplotlib.figure.Figure at 0x113f30400>"
      ]
     },
     "metadata": {},
     "output_type": "display_data"
    },
    {
     "name": "stdout",
     "output_type": "stream",
     "text": [
      "Test Set Score: 0.8902\n",
      "2018 data score: 0.8757\n",
      "\n",
      "\n",
      "iid Model, Test Set Score: 0.8957\n"
     ]
    }
   ],
   "source": [
    "X_train, X_test, y_train, y_test = train_test_split(X, y)\n",
    "\n",
    "param_grid = {'alpha': np.logspace(-3,3,10)}\n",
    "reg_grid = GridSearchCV(linear_model.Ridge(), param_grid, cv=5)\n",
    "reg_grid.fit(X_train, y_train)\n",
    "res = pd.DataFrame(reg_grid.cv_results_)\n",
    "ridge_best = reg_grid.best_estimator_\n",
    "\n",
    "# visualize Ridge alpha\n",
    "fig, ax = plt.subplots(1,1)\n",
    "ax.set_xscale('log')\n",
    "ax.plot(res['param_alpha'], res['mean_test_score'])\n",
    "ax.set_xlabel(\"alpha\", fontsize=16)\n",
    "ax.set_ylabel(\"R^2\", fontsize=16)\n",
    "ax.set_title(\"Ridge Regression: alpha\", fontsize=16)\n",
    "plt.show()\n",
    "\n",
    "print('Test Set Score: {:.4f}'.format(ridge_best.score(X_test, y_test)))\n",
    "print('2018 data score: {:.4f}'.format(ridge_best.score(X_18, y_18)))\n",
    "\n",
    "# assume iid and re-train model\n",
    "X_train_all, X_test_all, y_train_all, y_test_all = train_test_split(X_all, y_all)\n",
    "reg_grid = GridSearchCV(linear_model.Ridge(), param_grid, cv=5)\n",
    "reg_grid.fit(X_train_all, y_train_all)\n",
    "ridge_best = reg_grid.best_estimator_\n",
    "print('\\n\\niid Model, Test Set Score: {:.4f}'.format(ridge_best.score(X_test_all, y_test_all)))"
   ]
  },
  {
   "cell_type": "markdown",
   "metadata": {},
   "source": [
    "# TASK 2 "
   ]
  },
  {
   "cell_type": "code",
   "execution_count": 6,
   "metadata": {},
   "outputs": [
    {
     "name": "stdout",
     "output_type": "stream",
     "text": [
      " -2.3315: Eng Displ\n",
      " -0.2360: # Cyl\n",
      "  0.1649: # Gears\n",
      "  0.0031: Max Ethanol % - Gasoline\n",
      " -0.8705: Intake Valves Per Cyl\n",
      " -1.8131: Exhaust Valves Per Cyl\n",
      "  2.3599: Cars\n",
      " -0.2755: Pick-up Trucks\n",
      "  0.0094: SUV\n",
      " -1.8227: Special Purpose Vehicle\n",
      "  2.0849: Station Wagons\n",
      "  1.2779: Two Seaters\n",
      " -3.1440: Vans\n",
      " -0.4899: minivan\n",
      "  0.1964: Small\n",
      "  0.0000: Money\n",
      " -2.7791: Spent\n",
      " -0.4973: Lockup Torque Converter_Y\n",
      "  0.1964: Trans Creeper Gear_Y\n",
      "  0.6173: Cyl Deact?_Y\n",
      "  0.3841: Var Valve Lift?_Y\n",
      " -0.2940: Camless Valvetrain (Y or N)_Y\n",
      "  0.9407: Stop/Start System (Engine Management System) Code_Y\n",
      " -6.6149: Energy Storage Device Desc_No\n",
      " -0.0262: Var Valve Timing?_Y\n",
      "  1.3479: Air Aspir Method_NA\n",
      " -0.7746: Air Aspir Method_SC\n",
      " -0.0749: Air Aspir Method_TC\n",
      " -0.4984: Air Aspir Method_TS\n",
      " -0.6112: Trans_A\n",
      "  0.2506: Trans_AM\n",
      " -1.2737: Trans_AMS\n",
      "  3.4690: Trans_CVT\n",
      " -1.2580: Trans_M\n",
      " -0.5690: Trans_SA\n",
      " -0.0078: Trans_SCV\n",
      " -0.3374: Drive Sys_4\n",
      " -0.3579: Drive Sys_A\n",
      "  1.2573: Drive Sys_F\n",
      " -0.5007: Drive Sys_P\n",
      " -0.0614: Drive Sys_R\n",
      "  1.6118: Fuel Metering Sys Cd_CRDI\n",
      "  0.5548: Fuel Metering Sys Cd_DDI\n",
      " -0.9554: Fuel Metering Sys Cd_GDI\n",
      " -0.2735: Fuel Metering Sys Cd_GDPI\n",
      " -0.9377: Fuel Metering Sys Cd_MFI\n",
      " -0.0446: Fuel Usage  - Conventional Fuel_CNG\n",
      "  2.1666: Fuel Usage  - Conventional Fuel_DU\n",
      " -0.4200: Fuel Usage  - Conventional Fuel_G\n",
      " -0.6935: Fuel Usage  - Conventional Fuel_GM\n",
      " -0.3456: Fuel Usage  - Conventional Fuel_GP\n",
      " -0.6628: Fuel Usage  - Conventional Fuel_GPR\n"
     ]
    },
    {
     "data": {
      "image/png": "[encoded data removed]",
      "text/plain": [
       "<matplotlib.figure.Figure at 0x11405bf60>"
      ]
     },
     "metadata": {},
     "output_type": "display_data"
    },
    {
     "name": "stdout",
     "output_type": "stream",
     "text": [
      "20 Highly correlated features\n",
      "----------------------------------------------------------------------\n",
      "-0.9008,  Air Aspir Method_NA : Air Aspir Method_TC\n",
      "-0.8892,  Fuel Metering Sys Cd_GDI : Fuel Metering Sys Cd_MFI\n",
      "-0.7708,  Lockup Torque Converter_Y : Trans_M\n",
      "-0.7410,  # Gears : Trans_CVT\n",
      "-0.7254,  Var Valve Timing?_Y : Fuel Usage  - Conventional Fuel_DU\n",
      "-0.6682,  Var Valve Timing?_Y : Fuel Metering Sys Cd_CRDI\n",
      "-0.6545,  Intake Valves Per Cyl : Cyl Deact?_Y\n",
      "-0.6366,  Fuel Usage  - Conventional Fuel_G : Fuel Usage  - Conventional Fuel_GP\n",
      "-0.6313,  Exhaust Valves Per Cyl : Cyl Deact?_Y\n",
      "-0.6245,  Cars : SUV\n",
      "0.4697,  Air Aspir Method_NA : Fuel Usage  - Conventional Fuel_G\n",
      "0.4940,  Lockup Torque Converter_Y : Trans_SA\n",
      "0.5413,  # Cyl : Spent\n",
      "0.5580,  Eng Displ : Spent\n",
      "0.5695,  Var Valve Lift?_Y : Fuel Usage  - Conventional Fuel_GP\n",
      "0.7549,  Eng Displ : Money\n",
      "0.7861,  # Cyl : Money\n",
      "0.9261,  Eng Displ : # Cyl\n",
      "0.9365,  Fuel Metering Sys Cd_CRDI : Fuel Usage  - Conventional Fuel_DU\n",
      "0.9681,  Intake Valves Per Cyl : Exhaust Valves Per Cyl\n"
     ]
    }
   ],
   "source": [
    "# Visualize coefficients of ridge model to get some sense of their importance\n",
    "# then get correlation matrix\n",
    "\n",
    "corr = np.corrcoef(np.transpose(X_train))\n",
    "for col, coef in zip(df.columns, ridge_best.coef_):\n",
    "    print('{:8.4f}: {}'.format(coef, col))\n",
    "\n",
    "fig, ax = plt.subplots(1,1)\n",
    "fig.set_size_inches(10,6)\n",
    "ax.set_title('Correlation Matrix')\n",
    "hmap = heatmap(corr, cmap='viridis', ax=ax)\n",
    "plt.show()\n",
    "\n",
    "def get_correlated_features(X):\n",
    "    vals = []\n",
    "    for i in range(0, X.shape[0]):\n",
    "        for j in range(0,i):\n",
    "            vals.append((X[i,j],j,i))\n",
    "    vals.sort()\n",
    "    return vals[:10] + vals[-10:]\n",
    "\n",
    "print(\"20 Highly correlated features\")\n",
    "print('-' * 70)\n",
    "for tup in get_correlated_features(corr):\n",
    "    print('{:.4f},  {} : {}'.format(tup[0], df.columns[tup[1]], df.columns[tup[2]]))"
   ]
  },
  {
   "cell_type": "markdown",
   "metadata": {},
   "source": [
    "Seeing the results above, I will not remove any features at this step since it seems\n",
    "that most features have significant coefficients, the only excpeptions being the kth\n",
    "dummy (this is to be expected however, since I included all dummies)\n",
    "and the 'money' column (also expected since I have not normalized its values and they\n",
    "are in the thousands). Looking at the correlation matrix, we also see that most of the \n",
    "highly correlated features are the dummies. This is also to be expected. There are three\n",
    "exceptions which I will test their removal in later tasks."
   ]
  },
  {
   "cell_type": "markdown",
   "metadata": {},
   "source": [
    "### Now scale features and tune params"
   ]
  },
  {
   "cell_type": "code",
   "execution_count": 7,
   "metadata": {},
   "outputs": [],
   "source": [
    "class CustomScaler(BaseEstimator, TransformerMixin):\n",
    "    ''' \n",
    "    I built this class to apply StandardScaler only on a subset of the features. Namely, those\n",
    "    with continuous values. Since most features are binary, StandardScaler would \n",
    "    have have destroyed the binary relationships. Maybe there was a better way, but \n",
    "    this is the only thing I could think of. '''\n",
    "\n",
    "    def __init__(self, cont_idxs):\n",
    "        self.scalers = {}\n",
    "        self.cont_col_idxs = cont_idxs\n",
    "\n",
    "    def fit(self, X, y=None):\n",
    "        if self.cont_col_idxs == None:\n",
    "            self.cont_col_idxs = [0, 1, 2, 3, 15] \n",
    "        for idx in self.cont_col_idxs:\n",
    "            self.scalers[idx] = StandardScaler()\n",
    "            self.scalers[idx].fit(np.reshape(X[:,idx], (-1,1)))\n",
    "        return self\n",
    "\n",
    "    def transform(self, X, copy=True):\n",
    "        copy = np.array(X)\n",
    "        if self.scalers is not None:\n",
    "            for idx in cont_col:\n",
    "                copy[:,idx] = np.reshape(self.scalers[idx].transform(\n",
    "                    np.reshape(X[:,idx], (-1,1))), (-1,))\n",
    "            return copy\n",
    "        else:\n",
    "            raise Excpetion(\"scalers is None or cont_col_idxs is empty\")\n",
    "\n",
    "# get columns/features with continuous values in order to scale them later\n",
    "all_col = list(df.columns)\n",
    "cont_col = [all_col.index(col) for col in all_col \n",
    "            if set(df[col]) != set([0,1]) and set(df[col]) != set([1,2])]\n",
    "\n",
    "# Pipeline and GridSearch with Ridge Regression\n",
    "param_grid = {'model__alpha': np.logspace(-3,3,10)}\n",
    "ridge_pipe = Pipeline([('scale', CustomScaler(cont_col)), ('model', linear_model.Ridge())])\n",
    "reg_grid = GridSearchCV(ridge_pipe, param_grid, cv=5)\n",
    "reg_grid.fit(X_train, y_train)\n",
    "\n",
    "ridge_best = reg_grid.best_estimator_\n",
    "\n",
    "# repeat above but now applying polynomial kernel to data\n",
    "import warnings\n",
    "warnings.filterwarnings(\"ignore\", category=RuntimeWarning)\n",
    "\n",
    "ridge_pipe = Pipeline([('scale', CustomScaler(cont_col)),\n",
    "        ('kernel', PolynomialFeatures(2)), ('model', linear_model.Ridge())])\n",
    "reg_grid = GridSearchCV(ridge_pipe, param_grid, cv=5)\n",
    "reg_grid.fit(X_train, y_train)\n",
    "res = pd.DataFrame(reg_grid.cv_results_)\n",
    "ridge_best = reg_grid.best_estimator_"
   ]
  },
  {
   "cell_type": "markdown",
   "metadata": {},
   "source": [
    "Ridge Model with scaled data\n",
    "--------------------------------------------------\n",
    "Pipeline(memory=None, steps=[('scale', CustomScaler(cont_idxs=None)), ('model', Ridge(alpha=0.1, copy_X=True, fit_intercept=True, max_iter=None, normalize=False, random_state=None, solver='auto', tol=0.001))])\n",
    "\n",
    "Ridge score on test set: 0.8897\n",
    "\n",
    "\n",
    "\n",
    "Ridge Model with scaled data and polynomial kernel\n",
    "--------------------------------------------------\n",
    "Pipeline(memory=None,\n",
    "     steps=[('scale', CustomScaler(cont_idxs=None)), ('kernel', PolynomialFeatures(degree=2, include_bias=True, interaction_only=False)), ('model', Ridge(alpha=2.154434690031882, copy_X=True, fit_intercept=True, max_iter=None,\n",
    "   normalize=False, random_state=None, solver='auto', tol=0.001))])\n",
    "\n",
    "Ridge score on test set: 0.9680   \n",
    "Ridge score on 2018 data: 0.9494\n"
   ]
  },
  {
   "cell_type": "code",
   "execution_count": 8,
   "metadata": {},
   "outputs": [
    {
     "data": {
      "image/png": "[encoded data removed]",
      "text/plain": [
       "<matplotlib.figure.Figure at 0x114796d68>"
      ]
     },
     "metadata": {},
     "output_type": "display_data"
    }
   ],
   "source": [
    "# visualize params of Ridge model with kernelization\n",
    "fig, ax = plt.subplots(1,1)\n",
    "ax.set_xscale('log')\n",
    "ax.plot(np.logspace(-3,3,10), res['mean_test_score'])\n",
    "ax.plot(np.logspace(-3,3,10), res['mean_train_score'])\n",
    "ax.set_xlabel(\"alpha\", fontsize=16)\n",
    "ax.set_ylabel(\"R^2\", fontsize=16)\n",
    "ax.legend()\n",
    "ax.set_title(\"Ridge Regression (scaled and poly kernel): alpha\", fontsize=16)\n",
    "plt.show()"
   ]
  },
  {
   "cell_type": "code",
   "execution_count": 9,
   "metadata": {
    "collapsed": true
   },
   "outputs": [],
   "source": [
    "# Pipeline and GridSearch with SVR\n",
    "param_grid = {'C': np.logspace(-3,3,6)}\n",
    "\n",
    "reg_grid = GridSearchCV(SVR(), param_grid, cv=3, n_jobs=-1)\n",
    "reg_grid.fit(X_train, y_train)\n",
    "svr_best = reg_grid.best_estimator_\n",
    "\n",
    "# Repeat the above, but scaling the features\n",
    "param_grid = {'model__C': np.logspace(-3,3,6)}\n",
    "svr_pipe = Pipeline([('scale', CustomScaler(cont_col)), ('model', SVR())])\n",
    "reg_grid = GridSearchCV(svr_pipe, param_grid, cv=3, n_jobs=-1)\n",
    "reg_grid.fit(X_train, y_train)\n",
    "svr_best = reg_grid.best_estimator_\n"
   ]
  },
  {
   "cell_type": "markdown",
   "metadata": {},
   "source": [
    "SVR Model without scaled features, with feature mapping\n",
    "--------------------------------------------------\n",
    "SVR(C=63.0957344480193, cache_size=200, coef0=0.0, degree=3, epsilon=0.1,\n",
    "  gamma='auto', kernel='rbf', max_iter=-1, shrinking=True, tol=0.001,\n",
    "  verbose=False)\n",
    "\n",
    "SVR score on test set: 0.9020\n",
    "\n",
    "\n",
    "SVR Model with scaled features and feature mapping\n",
    "--------------------------------------------------\n",
    "Pipeline(memory=None, steps=[('scale', CustomScaler(cont_idxs=None)), ('model', SVR(C=1000.0, cache_size=200, \n",
    "        coef0=0.0, degree=3, epsilon=0.1, gamma='auto', kernel='rbf', max_iter=-1, shrinking=True, tol=0.001, \n",
    "verbose=False))])\n",
    "\n",
    "SVR score on test set: 0.9715\n",
    "SVR score on 2018 data: 0.9551\n",
    "\n",
    "\n",
    "Scaling the features has a negligible effect in the Ridge Model. The polynomial kernel \n",
    "however, does lead to a large performace increase in Ridge Model. SVR model, in turn\n",
    "did increase substantially after scaling data. Currently it is the best model."
   ]
  },
  {
   "cell_type": "markdown",
   "metadata": {},
   "source": [
    "# TASK 3 "
   ]
  },
  {
   "cell_type": "code",
   "execution_count": 10,
   "metadata": {},
   "outputs": [
    {
     "name": "stdout",
     "output_type": "stream",
     "text": [
      "Random Forest cross val scores: \n",
      "--------------------------------------------------\n",
      "[0.9668 0.9643 0.9713 0.9781 0.9759]\n",
      "\n",
      "Test set score: 0.9798\n",
      "2018 data score: 0.9451\n",
      "\n",
      "\n",
      "Gradient Boosting cross val scores: \n",
      "--------------------------------------------------\n",
      "[0.9677 0.9602 0.969  0.9723 0.9667]\n",
      "\n",
      "Test set score: 0.9736\n",
      "2018 data score: 0.9371\n",
      "\n",
      "\n",
      "Best Model: RandomForest\n",
      "--------------------------------------------------\n",
      "iid test set score: 0.9833\n"
     ]
    }
   ],
   "source": [
    "from sklearn.ensemble import RandomForestRegressor, GradientBoostingRegressor\n",
    "from sklearn.model_selection import cross_val_score\n",
    "\n",
    "rand_f = RandomForestRegressor(n_estimators=100)\n",
    "print('Random Forest cross val scores: \\n' + '-'*50)\n",
    "print(cross_val_score(rand_f, X_train, y_train, cv=5))\n",
    "print('\\nTest set score: {:.4f}'.format(rand_f.fit(X_train, y_train).score(X_test, y_test)))\n",
    "print('2018 data score: {:.4f}'.format(rand_f.score(X_18, y_18)))\n",
    "\n",
    "grad_boost = GradientBoostingRegressor(n_estimators=100)\n",
    "print('\\n\\nGradient Boosting cross val scores: \\n' + '-'*50)\n",
    "print(cross_val_score(grad_boost, X_train, y_train, cv=5))\n",
    "print('\\nTest set score: {:.4f}'.format(grad_boost.fit(X_train, y_train).score(X_test, y_test)))\n",
    "print('2018 data score: {:.4f}'.format(grad_boost.score(X_18, y_18)))\n",
    "\n",
    "print('\\n\\nBest Model: RandomForest\\n' + '-'*50)\n",
    "print('iid test set score: {:.4f}'.format(rand_f.fit(X_train_all, y_train_all).score(X_test_all, y_test_all)))"
   ]
  },
  {
   "cell_type": "markdown",
   "metadata": {},
   "source": [
    "The similarity in performace of these models is somewhat expected. Their performace is on par\n",
    "with the performance of the SVR model. I do not bother with scaling or kernels with these models since they are tree based and therefore robust to these methods. Random Forest seems to perfom a bit better than the rest, so this will be my model of choice"
   ]
  },
  {
   "cell_type": "markdown",
   "metadata": {},
   "source": [
    "# TASK 4 \n",
    "After reviewing correlation values and coefficients on the Ridge regression model in part 2,\n",
    "I picked 4 features which had small (in absolute value) coefficients and/or very high (>.92)\n",
    "correlation with another feature. I did not include dummy variables in this analysis for\n",
    "obvious reasons."
   ]
  },
  {
   "cell_type": "code",
   "execution_count": 11,
   "metadata": {
    "scrolled": true
   },
   "outputs": [
    {
     "name": "stdout",
     "output_type": "stream",
     "text": [
      "Random Forest (with extraneous features removed) cross val scores: \n",
      "--------------------------------------------------\n",
      "[0.9553 0.9504 0.9721 0.9744 0.963 ]\n",
      "2018 data score: 0.9275\n"
     ]
    }
   ],
   "source": [
    "remove_col = ['Exhaust Valves Per Cyl', 'Eng Displ', 'Max Ethanol % - Gasoline', 'Var Valve Timing?_Y']\n",
    "idxs = [all_col.index(col) for col in remove_col]\n",
    "X_sub_train = np.delete(X_train, idxs, axis=1)\n",
    "X_sub_test = np.delete(X_test, idxs, axis=1)\n",
    "X_sub_18 = np.delete(X_18, idxs, axis=1)\n",
    "\n",
    "rand_f = RandomForestRegressor(n_estimators=100)\n",
    "print('Random Forest (with extraneous features removed) cross val scores: \\n' + '-'*50)\n",
    "print(cross_val_score(rand_f, X_sub_train, y_train, cv=5))\n",
    "print('2018 data score: {:.4f}'.format(rand_f.fit(X_sub_train, y_train).score(X_sub_18, y_18)))\n"
   ]
  },
  {
   "cell_type": "markdown",
   "metadata": {},
   "source": [
    "The removal of these features had a measurable effect on the accuracy of the model on the 2018 data set. \n",
    "Therefore, we do not benefit from removing them. The benefits of having a smaller feature space do not \n",
    "outweigh the loss in performance. The only feature that can be removed without loss to performance is \n",
    "Max Ethanol\n",
    "\n",
    "In task 1,2 we discovered the most influential features are all dummies, namely the dummies that indicate: \n",
    "if vehicle is electric, type of transmission, what type of vehicle (SUV, truck, etc), engine type, if \n",
    "the manufacturer specifies 'money spent' vs 'money saved"
   ]
  },
  {
   "cell_type": "code",
   "execution_count": null,
   "metadata": {
    "collapsed": true
   },
   "outputs": [],
   "source": []
  }
 ],
 "metadata": {
  "kernelspec": {
   "display_name": "Python 3",
   "language": "python",
   "name": "python3"
  },
  "language_info": {
   "codemirror_mode": {
    "name": "ipython",
    "version": 3
   },
   "file_extension": ".py",
   "mimetype": "text/x-python",
   "name": "python",
   "nbconvert_exporter": "python",
   "pygments_lexer": "ipython3",
   "version": "3.6.2"
  }
 },
 "nbformat": 4,
 "nbformat_minor": 2
}
